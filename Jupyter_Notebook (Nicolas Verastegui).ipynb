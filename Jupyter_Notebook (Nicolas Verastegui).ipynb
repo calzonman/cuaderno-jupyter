{
 "cells": [
  {
   "cell_type": "markdown",
   "metadata": {},
   "source": [
    "<center>\n",
    "    <img src=\"https://cf-courses-data.s3.us.cloud-object-storage.appdomain.cloud/IBMDeveloperSkillsNetwork-DS0105EN-SkillsNetwork/labs/Module2/images/SN_web_lightmode.png\" width=\"300\" alt=\"cognitiveclass.ai logo\">\n",
    "</center>\n"
   ]
  },
  {
   "cell_type": "markdown",
   "metadata": {},
   "source": [
    "#### Add your code below following the instructions given in the course\n"
   ]
  },
  {
   "cell_type": "markdown",
   "metadata": {},
   "source": [
    "# Data Science Notebook"
   ]
  },
  {
   "cell_type": "markdown",
   "metadata": {},
   "source": [
    "Este cuaderno contiene información sobre lenguajes, bibliotecas y herramientas de Ciencia de Datos.\n"
   ]
  },
  {
   "cell_type": "markdown",
   "metadata": {},
   "source": [
    "## Lenguajes de Ciencia de Datos  \n",
    "Algunos lenguajes populares en Ciencia de Datos incluyen:  \n",
    "- Python  \n",
    "- R  \n",
    "- SQL  \n",
    "- Julia  \n",
    "- Scala  \n"
   ]
  },
  {
   "cell_type": "markdown",
   "metadata": {},
   "source": [
    "## Lenguajes de Ciencia de Datos  \n",
    "Algunos lenguajes populares en Ciencia de Datos incluyen:  \n",
    "- Python  \n",
    "- R  \n",
    "- SQL  \n",
    "- Julia  \n",
    "- Scala  \n"
   ]
  },
  {
   "cell_type": "markdown",
   "metadata": {},
   "source": [
    "## Bibliotecas de Ciencia de Datos  \n",
    "Algunas bibliotecas populares incluyen:  \n",
    "- NumPy  \n",
    "- Pandas  \n",
    "- Matplotlib  \n",
    "- Scikit-learn  \n",
    "- TensorFlow  \n"
   ]
  },
  {
   "cell_type": "markdown",
   "metadata": {},
   "source": [
    "## Herramientas de Ciencia de Datos  \n",
    "| Herramienta      | Descripción                                |  \n",
    "|------------      |------------                                |  \n",
    "| Jupyter Notebook | Entorno interactivo para análisis de datos |  \n",
    "| RStudio          | IDE para R                                 |  \n",
    "| Apache Spark     | Procesamiento de Big Data                  |  \n",
    "| TensorFlow       | Biblioteca para Machine Learning           |  \n"
   ]
  },
  {
   "cell_type": "markdown",
   "metadata": {},
   "source": [
    "## Expresiones Aritméticas  \n",
    "Ejemplo de operaciones matemáticas en Python:  \n",
    "- `5 + 3` (suma)  \n",
    "- `10 * 2` (multiplicación)  \n",
    "- `20 / 4` (división)  \n"
   ]
  },
  {
   "cell_type": "code",
   "execution_count": 4,
   "metadata": {},
   "outputs": [
    {
     "name": "stdout",
     "output_type": "stream",
     "text": [
      "El resultado de la operación es: 30\n"
     ]
    }
   ],
   "source": [
    "resultado=(5*4)+10\n",
    "print(\"El resultado de la operación es:\", resultado)"
   ]
  },
  {
   "cell_type": "code",
   "execution_count": 5,
   "metadata": {},
   "outputs": [
    {
     "name": "stdout",
     "output_type": "stream",
     "text": [
      "120 minutos equivalen a 2.0 horas\n"
     ]
    }
   ],
   "source": [
    "minutos = 120\n",
    "horas = minutos / 60\n",
    "print(minutos, \"minutos equivalen a\", horas, \"horas\")"
   ]
  },
  {
   "cell_type": "markdown",
   "metadata": {},
   "source": [
    "## Objetivos  \n",
    "- Aprender sobre Ciencia de Datos  \n",
    "- Practicar Markdown y Python  \n",
    "- Compartir este cuaderno en GitHub  \n"
   ]
  },
  {
   "cell_type": "markdown",
   "metadata": {},
   "source": [
    "**Autor:** [Nicolas Verastegui]  \n"
   ]
  }
 ],
 "metadata": {
  "kernelspec": {
   "display_name": "Python 3 (ipykernel)",
   "language": "python",
   "name": "python3"
  },
  "language_info": {
   "codemirror_mode": {
    "name": "ipython",
    "version": 3
   },
   "file_extension": ".py",
   "mimetype": "text/x-python",
   "name": "python",
   "nbconvert_exporter": "python",
   "pygments_lexer": "ipython3",
   "version": "3.12.8"
  }
 },
 "nbformat": 4,
 "nbformat_minor": 4
}
